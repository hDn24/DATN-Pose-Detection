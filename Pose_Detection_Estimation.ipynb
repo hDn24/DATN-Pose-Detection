{
  "nbformat": 4,
  "nbformat_minor": 0,
  "metadata": {
    "colab": {
      "name": "Pose_Detection_Estimation.ipynb",
      "provenance": [],
      "authorship_tag": "ABX9TyPHgD0dTV1l+4C8+ycfx1iR",
      "include_colab_link": true
    },
    "kernelspec": {
      "name": "python3",
      "display_name": "Python 3"
    },
    "language_info": {
      "name": "python"
    }
  },
  "cells": [
    {
      "cell_type": "markdown",
      "metadata": {
        "id": "view-in-github",
        "colab_type": "text"
      },
      "source": [
        "<a href=\"https://colab.research.google.com/github/hDn24/DATN-Pose-Detection/blob/feature%2Finit_source/Pose_Detection_Estimation.ipynb\" target=\"_parent\"><img src=\"https://colab.research.google.com/assets/colab-badge.svg\" alt=\"Open In Colab\"/></a>"
      ]
    },
    {
      "cell_type": "markdown",
      "metadata": {
        "id": "Eb67hOiaf4At"
      },
      "source": [
        "## Import the required libs"
      ]
    },
    {
      "cell_type": "code",
      "metadata": {
        "id": "xYh7V7fxfvsl"
      },
      "source": [
        "import csv\n",
        "import cv2\n",
        "import itertools\n",
        "import numpy as np\n",
        "import pandas as pd\n",
        "import os\n",
        "import sys\n",
        "import tempfile\n",
        "import tqdm\n",
        "\n",
        "from matplotlib import pyplot as plt\n",
        "from matplotlib.collections import LineCollection\n",
        "\n",
        "import tensorflow as tf\n",
        "import tensorflow_hub as hub\n",
        "from tensorflow import keras\n",
        "from tensorflow.keras.utils import to_categorical\n",
        "from tensorflow.keras import layers\n",
        "from tensorflow.keras.callbacks import ModelCheckpoint, EarlyStopping\n",
        "\n",
        "from sklearn.model_selection import train_test_split\n",
        "from sklearn.metrics import accuracy_score, classification_report, confusion_matrix"
      ],
      "execution_count": null,
      "outputs": []
    },
    {
      "cell_type": "code",
      "metadata": {
        "id": "_s9dJ4WMWsRz"
      },
      "source": [
        "# Load dataset into colab machine\n",
        "!gdown https://drive.google.com/uc?id=1OMCywlpMWdvnZlSxKLRAcN65wVZhYzAP -O yoga_poses.zip -q"
      ],
      "execution_count": null,
      "outputs": []
    },
    {
      "cell_type": "code",
      "metadata": {
        "id": "4L-P6T06drYv"
      },
      "source": [
        "!unzip -q yoga_poses.zip -d yoga_cg"
      ],
      "execution_count": null,
      "outputs": []
    }
  ]
}